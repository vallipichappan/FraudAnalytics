{
 "cells": [
  {
   "cell_type": "markdown",
   "metadata": {
    "id": "MzHb9hEwsKna"
   },
   "source": [
    "# **Instructions on how to run the code on google colab**\n",
    "\n",
    "Before running the Jupyter notebook, run the following commands to ensure the notebook can run smoothly\n",
    "\n",
    "```\n",
    "conda create -n BT4012_Assignment2 python=3.7 #if running on conda\n",
    "conda activate BT4012_Assignment2 #if running on conda\n",
    "!pip install -r A0192263E-requirements.txt #if running on conda\n",
    "```\n",
    "\n",
    "\n",
    "\n"
   ]
  },
  {
   "cell_type": "markdown",
   "metadata": {
    "id": "g0vLwCda2iuZ"
   },
   "source": [
    "# **Importing the libraries required**"
   ]
  },
  {
   "cell_type": "code",
   "execution_count": 1,
   "metadata": {
    "colab": {
     "base_uri": "https://localhost:8080/",
     "height": 468
    },
    "id": "AhI8A1-Eu4_H",
    "outputId": "3ab5e015-1596-4f0e-f5ec-a8d0744c134e"
   },
   "outputs": [
    {
     "name": "stdout",
     "output_type": "stream",
     "text": [
      "Drive already mounted at /content/drive; to attempt to forcibly remount, call drive.mount(\"/content/drive\", force_remount=True).\n",
      "Requirement already satisfied: ipython-cache in /usr/local/lib/python3.6/dist-packages (0.2.6)\n",
      "Requirement already satisfied: IPython in /usr/local/lib/python3.6/dist-packages (from ipython-cache) (5.5.0)\n",
      "Requirement already satisfied: tabulate in /usr/local/lib/python3.6/dist-packages (from ipython-cache) (0.8.7)\n",
      "Requirement already satisfied: astunparse in /usr/local/lib/python3.6/dist-packages (from ipython-cache) (1.6.3)\n",
      "Requirement already satisfied: simplegeneric>0.8 in /usr/local/lib/python3.6/dist-packages (from IPython->ipython-cache) (0.8.1)\n",
      "Requirement already satisfied: pygments in /usr/local/lib/python3.6/dist-packages (from IPython->ipython-cache) (2.6.1)\n",
      "Requirement already satisfied: prompt-toolkit<2.0.0,>=1.0.4 in /usr/local/lib/python3.6/dist-packages (from IPython->ipython-cache) (1.0.18)\n",
      "Requirement already satisfied: traitlets>=4.2 in /usr/local/lib/python3.6/dist-packages (from IPython->ipython-cache) (4.3.3)\n",
      "Requirement already satisfied: setuptools>=18.5 in /usr/local/lib/python3.6/dist-packages (from IPython->ipython-cache) (50.3.2)\n",
      "Requirement already satisfied: decorator in /usr/local/lib/python3.6/dist-packages (from IPython->ipython-cache) (4.4.2)\n",
      "Requirement already satisfied: pickleshare in /usr/local/lib/python3.6/dist-packages (from IPython->ipython-cache) (0.7.5)\n",
      "Requirement already satisfied: pexpect; sys_platform != \"win32\" in /usr/local/lib/python3.6/dist-packages (from IPython->ipython-cache) (4.8.0)\n",
      "Requirement already satisfied: wheel<1.0,>=0.23.0 in /usr/local/lib/python3.6/dist-packages (from astunparse->ipython-cache) (0.35.1)\n",
      "Requirement already satisfied: six<2.0,>=1.6.1 in /usr/local/lib/python3.6/dist-packages (from astunparse->ipython-cache) (1.15.0)\n",
      "Requirement already satisfied: wcwidth in /usr/local/lib/python3.6/dist-packages (from prompt-toolkit<2.0.0,>=1.0.4->IPython->ipython-cache) (0.2.5)\n",
      "Requirement already satisfied: ipython-genutils in /usr/local/lib/python3.6/dist-packages (from traitlets>=4.2->IPython->ipython-cache) (0.2.0)\n",
      "Requirement already satisfied: ptyprocess>=0.5 in /usr/local/lib/python3.6/dist-packages (from pexpect; sys_platform != \"win32\"->IPython->ipython-cache) (0.6.0)\n",
      "%cache magic is now registered in ipython\n"
     ]
    },
    {
     "data": {
      "text/html": [
       "<table>\n",
       "<thead>\n",
       "<tr><th>var name               </th><th style=\"text-align: right;\">  size(byte)</th><th>stored at date            </th><th>version  </th><th>expression(hash)  </th></tr>\n",
       "</thead>\n",
       "<tbody>\n",
       "<tr><td>train_csv              </td><td style=\"text-align: right;\">      103664</td><td>2020-11-07 07:04:26.508135</td><td>train    </td><td>train             </td></tr>\n",
       "<tr><td>test_images            </td><td style=\"text-align: right;\">    10066726</td><td>2020-11-07 08:20:08.950802</td><td>Test     </td><td>Test              </td></tr>\n",
       "<tr><td>images_autoencoder     </td><td style=\"text-align: right;\">    20155238</td><td>2020-11-07 08:20:16.716858</td><td>X_auto   </td><td>X_auto            </td></tr>\n",
       "<tr><td>images                 </td><td style=\"text-align: right;\">    60465382</td><td>2020-11-07 08:09:40.054972</td><td>X        </td><td>X                 </td></tr>\n",
       "<tr><td>test_images_autoencoder</td><td style=\"text-align: right;\">     3355686</td><td>2020-11-07 08:20:18.020805</td><td>Test_auto</td><td>Test_auto         </td></tr>\n",
       "</tbody>\n",
       "</table>"
      ],
      "text/plain": [
       "<IPython.core.display.HTML object>"
      ]
     },
     "metadata": {
      "tags": []
     },
     "output_type": "display_data"
    }
   ],
   "source": [
    "import tensorflow as tf\n",
    "import sklearn\n",
    "import keras\n",
    "import numpy as np\n",
    "import pandas as pd\n",
    "import matplotlib.pyplot as plt\n",
    "\n",
    "from keras.models import Sequential\n",
    "from keras.layers import Dense, Dropout, Flatten\n",
    "from keras.layers import Conv2D, MaxPooling2D\n",
    "from keras.utils import to_categorical\n",
    "from keras.preprocessing import image\n",
    "from sklearn.model_selection import train_test_split\n",
    "from tqdm import tqdm\n",
    "from keras.layers import Dense, Conv2D, MaxPool2D, UpSampling2D\n",
    "from keras.models import Sequential\n",
    "from keras.layers import Dense, Conv2D, MaxPool2D, UpSampling2D\n",
    "from tensorflow.keras.utils import plot_model\n",
    "from sklearn.model_selection import KFold\n",
    "\n",
    "%matplotlib inline\n",
    "\n",
    "# Accessing My Google Drive\n",
    "from google.colab import drive\n",
    "drive.mount('/content/drive')\n",
    "\n",
    "!pip install ipython-cache\n",
    "# Cache required to store images after reading them. \n",
    "# This is to ensure that every time the kernel is restarted, images do not need to be re-read.\n",
    "import cache_magic\n",
    "%cache\n"
   ]
  },
  {
   "cell_type": "markdown",
   "metadata": {
    "id": "pfwUZbGe-mB9"
   },
   "source": [
    "## Reading the data from train images csv, train and test images"
   ]
  },
  {
   "cell_type": "markdown",
   "metadata": {
    "id": "wzUC0cr0eRQR"
   },
   "source": [
    "Using Pandas to read the csv file"
   ]
  },
  {
   "cell_type": "code",
   "execution_count": 2,
   "metadata": {
    "colab": {
     "base_uri": "https://localhost:8080/"
    },
    "id": "Ywgi9rGaYmnm",
    "outputId": "34fa2bf1-e1b1-4fa3-9275-260ec86e502f"
   },
   "outputs": [
    {
     "name": "stdout",
     "output_type": "stream",
     "text": [
      "loading cached value for variable 'train_csv'. Time since pickling  3:28:52.102409\n"
     ]
    }
   ],
   "source": [
    "# Reading and Storing the train csv file in cache\n",
    "train = pd.read_csv('/content/drive/My Drive/train_images.csv') \n",
    "\n",
    "%cache train_csv = train"
   ]
  },
  {
   "cell_type": "markdown",
   "metadata": {
    "id": "6LLwIxZJeWyl"
   },
   "source": [
    "Using Kera's image library to obtain images of shape (28,28,1)"
   ]
  },
  {
   "cell_type": "code",
   "execution_count": 3,
   "metadata": {
    "colab": {
     "base_uri": "https://localhost:8080/"
    },
    "id": "9_V_TTVTBQVv",
    "outputId": "121e6741-c03e-41f2-c844-db7b6799b6de"
   },
   "outputs": [
    {
     "name": "stderr",
     "output_type": "stream",
     "text": [
      "100%|██████████| 6427/6427 [00:08<00:00, 743.15it/s]\n"
     ]
    },
    {
     "name": "stdout",
     "output_type": "stream",
     "text": [
      "loading cached value for variable 'images'. Time since pickling  2:23:47.490636\n"
     ]
    }
   ],
   "source": [
    "# Reading and Storing the train images file in cache\n",
    "\n",
    "train_image = []\n",
    "\n",
    "for i in tqdm(range(train.shape[0])):\n",
    "    img = image.load_img('/content/drive/My Drive/train_images/'+str(i)+'.jpg', target_size=(28,28))\n",
    "    img = image.img_to_array(img)\n",
    "    img = img/255\n",
    "    train_image.append(img)\n",
    "\n",
    "\n",
    "X = np.array(train_image)\n",
    "\n",
    "%cache images = X"
   ]
  },
  {
   "cell_type": "code",
   "execution_count": 4,
   "metadata": {
    "colab": {
     "base_uri": "https://localhost:8080/"
    },
    "id": "LheAk916CPp6",
    "outputId": "4867e3f2-9a76-43e2-b487-47f03fe6d2a5"
   },
   "outputs": [
    {
     "name": "stderr",
     "output_type": "stream",
     "text": [
      "100%|██████████| 1070/1070 [00:01<00:00, 776.24it/s]"
     ]
    },
    {
     "name": "stdout",
     "output_type": "stream",
     "text": [
      "loading cached value for variable 'test_images'. Time since pickling  2:13:20.005955\n"
     ]
    },
    {
     "name": "stderr",
     "output_type": "stream",
     "text": [
      "\n"
     ]
    }
   ],
   "source": [
    "# Reading and Storing the test images file in cache\n",
    "\n",
    "test_image = []\n",
    "\n",
    "for i in tqdm(range(1070)):\n",
    "    img = image.load_img('/content/drive/My Drive/test_images/'+str(i)+'.jpg', target_size=(28,28))\n",
    "    img = image.img_to_array(img)\n",
    "    img = img/255\n",
    "    test_image.append(img)\n",
    "\n",
    "Test = np.array(test_image)\n",
    "\n",
    "%cache test_images = Test"
   ]
  },
  {
   "cell_type": "markdown",
   "metadata": {
    "id": "qTKFKUdcZAyY"
   },
   "source": [
    "Reading the train and test images, to obtain a different shape. This is to better fit the requirements of the autoencoder model. Using Matplotlib's imread function to obtain images of size (28,28,3)"
   ]
  },
  {
   "cell_type": "code",
   "execution_count": 5,
   "metadata": {
    "colab": {
     "base_uri": "https://localhost:8080/"
    },
    "id": "hU178ZJYfatr",
    "outputId": "bdf9e79d-8c7d-43f4-e3e5-7da1cf926b45"
   },
   "outputs": [
    {
     "name": "stderr",
     "output_type": "stream",
     "text": [
      "100%|██████████| 6427/6427 [00:09<00:00, 694.41it/s]\n"
     ]
    },
    {
     "name": "stdout",
     "output_type": "stream",
     "text": [
      "loading cached value for variable 'images_autoencoder'. Time since pickling  2:13:21.611224\n"
     ]
    }
   ],
   "source": [
    "# Reading and Storing the train images file in cache\n",
    "\n",
    "train_image_auto = []\n",
    "\n",
    "for i in tqdm(range(train_csv.shape[0])):\n",
    "    img = plt.imread('/content/drive/My Drive/train_images/'+str(i)+'.jpg').reshape(28,28,)\n",
    "    img = image.img_to_array(img)\n",
    "    train_image_auto.append(img)\n",
    "\n",
    "X_auto = np.array(train_image_auto)\n",
    "\n",
    "%cache images_autoencoder = X_auto"
   ]
  },
  {
   "cell_type": "code",
   "execution_count": 6,
   "metadata": {
    "colab": {
     "base_uri": "https://localhost:8080/"
    },
    "id": "0oKF0OeOmdF_",
    "outputId": "f3a800ef-e583-42fe-b247-a43a1d5c1a8d"
   },
   "outputs": [
    {
     "name": "stderr",
     "output_type": "stream",
     "text": [
      "100%|██████████| 1070/1070 [00:02<00:00, 379.48it/s]"
     ]
    },
    {
     "name": "stdout",
     "output_type": "stream",
     "text": [
      "loading cached value for variable 'test_images_autoencoder'. Time since pickling  2:13:23.160915\n"
     ]
    },
    {
     "name": "stderr",
     "output_type": "stream",
     "text": [
      "\n"
     ]
    }
   ],
   "source": [
    "# Reading and Storing the test images file in cache\n",
    "\n",
    "test_image_auto = []\n",
    "\n",
    "for i in tqdm(range(1070)):\n",
    "    img = plt.imread('/content/drive/My Drive/test_images/'+str(i)+'.jpg').reshape(28,28,)\n",
    "    img = image.img_to_array(img)\n",
    "    test_image_auto.append(img)\n",
    "\n",
    "Test_auto = np.array(test_image_auto)\n",
    "\n",
    "%cache test_images_autoencoder = Test_auto"
   ]
  },
  {
   "cell_type": "markdown",
   "metadata": {
    "id": "soNmHboqzP7L"
   },
   "source": [
    "# Loading from Cache"
   ]
  },
  {
   "cell_type": "code",
   "execution_count": 7,
   "metadata": {
    "colab": {
     "base_uri": "https://localhost:8080/"
    },
    "id": "aUBxCB0wBYVz",
    "outputId": "984082a3-f7e2-4e3d-ebd9-1d245041b447"
   },
   "outputs": [
    {
     "name": "stdout",
     "output_type": "stream",
     "text": [
      "loading cached value for variable 'images'. Time since pickling  2:24:01.343851\n",
      "loading cached value for variable 'train_csv'. Time since pickling  3:29:14.894631\n",
      "loading cached value for variable 'test_images'. Time since pickling  2:13:32.459573\n",
      "loading cached value for variable 'images_autoencoder'. Time since pickling  2:13:24.707880\n",
      "loading cached value for variable 'test_images_autoencoder'. Time since pickling  2:13:23.408002\n"
     ]
    }
   ],
   "source": [
    "%cache images\n",
    "%cache train_csv\n",
    "%cache test_images\n",
    "%cache images_autoencoder\n",
    "%cache test_images_autoencoder"
   ]
  },
  {
   "cell_type": "markdown",
   "metadata": {
    "id": "U0BK4AlOD0fP"
   },
   "source": [
    "# **Descriptive statistics**\n"
   ]
  },
  {
   "cell_type": "markdown",
   "metadata": {
    "id": "JQw70gmx0LIE"
   },
   "source": [
    "The following will be needed for the CNN model"
   ]
  },
  {
   "cell_type": "code",
   "execution_count": 8,
   "metadata": {
    "colab": {
     "base_uri": "https://localhost:8080/"
    },
    "id": "a1qY82_Gjwm8",
    "outputId": "e73f8107-175e-4527-c26d-298a1c396931"
   },
   "outputs": [
    {
     "data": {
      "text/plain": [
       "(6427, 28, 28, 3)"
      ]
     },
     "execution_count": 8,
     "metadata": {
      "tags": []
     },
     "output_type": "execute_result"
    }
   ],
   "source": [
    "images.shape"
   ]
  },
  {
   "cell_type": "code",
   "execution_count": 9,
   "metadata": {
    "colab": {
     "base_uri": "https://localhost:8080/"
    },
    "id": "2ddjwfj5vt0W",
    "outputId": "426830a9-92a0-41a9-e3e0-95e68b854d3f"
   },
   "outputs": [
    {
     "data": {
      "text/plain": [
       "(1070, 28, 28, 3)"
      ]
     },
     "execution_count": 9,
     "metadata": {
      "tags": []
     },
     "output_type": "execute_result"
    }
   ],
   "source": [
    "test_images.shape"
   ]
  },
  {
   "cell_type": "markdown",
   "metadata": {
    "id": "OMbpGjVa0P8P"
   },
   "source": [
    "The following will be needed for the autoencoder model"
   ]
  },
  {
   "cell_type": "code",
   "execution_count": 10,
   "metadata": {
    "colab": {
     "base_uri": "https://localhost:8080/"
    },
    "id": "_EAIaYeC3fns",
    "outputId": "ef2a0ea4-7696-4c9f-9bb2-7894e38a6c98"
   },
   "outputs": [
    {
     "data": {
      "text/plain": [
       "(6427, 28, 28, 1)"
      ]
     },
     "execution_count": 10,
     "metadata": {
      "tags": []
     },
     "output_type": "execute_result"
    }
   ],
   "source": [
    "images_autoencoder.shape"
   ]
  },
  {
   "cell_type": "code",
   "execution_count": 11,
   "metadata": {
    "colab": {
     "base_uri": "https://localhost:8080/"
    },
    "id": "c9biDA163i3t",
    "outputId": "3629c1aa-97ae-4b63-f1d3-c1730720f456"
   },
   "outputs": [
    {
     "data": {
      "text/plain": [
       "(1070, 28, 28, 1)"
      ]
     },
     "execution_count": 11,
     "metadata": {
      "tags": []
     },
     "output_type": "execute_result"
    }
   ],
   "source": [
    "test_images_autoencoder.shape"
   ]
  },
  {
   "cell_type": "code",
   "execution_count": 12,
   "metadata": {
    "colab": {
     "base_uri": "https://localhost:8080/"
    },
    "id": "giSw01qJ-34-",
    "outputId": "2272bda2-04a1-4749-858b-ecd3ee5bf55f"
   },
   "outputs": [
    {
     "data": {
      "text/plain": [
       "label\n",
       "0        5923\n",
       "1         504\n",
       "dtype: int64"
      ]
     },
     "execution_count": 12,
     "metadata": {
      "tags": []
     },
     "output_type": "execute_result"
    }
   ],
   "source": [
    "pd.DataFrame(train_csv.label).value_counts()"
   ]
  },
  {
   "cell_type": "markdown",
   "metadata": {
    "id": "36J4gb1D0TJ0"
   },
   "source": [
    "Plotting an image (normalised pixels between 0 and 1)"
   ]
  },
  {
   "cell_type": "code",
   "execution_count": 13,
   "metadata": {
    "colab": {
     "base_uri": "https://localhost:8080/",
     "height": 282
    },
    "id": "fRapxJzdiu6G",
    "outputId": "6886668e-b70e-49c5-9cd0-d29cb638920a"
   },
   "outputs": [
    {
     "data": {
      "text/plain": [
       "<matplotlib.image.AxesImage at 0x7f34ed69a6d8>"
      ]
     },
     "execution_count": 13,
     "metadata": {
      "tags": []
     },
     "output_type": "execute_result"
    },
    {
     "data": {
      "image/png": "[encoded data removed]",
      "text/plain": [
       "<Figure size 432x288 with 1 Axes>"
      ]
     },
     "metadata": {
      "needs_background": "light",
      "tags": []
     },
     "output_type": "display_data"
    }
   ],
   "source": [
    "img = images[88]\n",
    "plt.imshow(img)"
   ]
  },
  {
   "cell_type": "markdown",
   "metadata": {
    "id": "zvtel8Oq2vYp"
   },
   "source": [
    "# Preparing training and testing data for the CNN Model\n",
    "The test dataset will be made use of later to test the accuracy"
   ]
  },
  {
   "cell_type": "code",
   "execution_count": 14,
   "metadata": {
    "id": "hzKlmxxL21ls"
   },
   "outputs": [],
   "source": [
    "x_train, x_test, y_train, y_test = train_test_split(images, train_csv, test_size = 0.1, random_state = 42)"
   ]
  },
  {
   "cell_type": "markdown",
   "metadata": {
    "id": "zyH-cJkWuSdB"
   },
   "source": [
    "Dealing with Imbalanced Dataset Using Class Weight Hyper Parameter"
   ]
  },
  {
   "cell_type": "code",
   "execution_count": 15,
   "metadata": {
    "id": "yepX8gMO3O_M"
   },
   "outputs": [],
   "source": [
    "# prepaing values for class weight parameter\n",
    "zero = len(y_train[y_train['label']==0])\n",
    "one = len(y_train[y_train['label']==1])\n",
    "total = len(y_train)\n",
    "\n",
    "weight_for_0 = (1 / zero) * (total)/2.0 \n",
    "weight_for_1 = (1 / one)  * (total)/2.0\n",
    "\n",
    "class_weight = {0: weight_for_0, 1: weight_for_1}"
   ]
  },
  {
   "cell_type": "markdown",
   "metadata": {
    "id": "4iIO-2Jd3uI3"
   },
   "source": [
    "Cleaning the labels array"
   ]
  },
  {
   "cell_type": "code",
   "execution_count": 16,
   "metadata": {
    "id": "9ilZmP1f3rBk"
   },
   "outputs": [],
   "source": [
    "y_train = np.array(y_train.drop(['id'],axis=1)).flatten()\n",
    "y_test = np.array(y_test.drop(['id'],axis=1)).flatten()"
   ]
  },
  {
   "cell_type": "markdown",
   "metadata": {
    "id": "IAwii-6T8t0L"
   },
   "source": [
    "# **CNN Model**\n",
    "\n",
    "After much trail and error, the number of layers, units within each layer, kernel size, pool size and drop out hyperparameters were finalised, such that the accuracy on the test set was the highest. Another note would be the point from the week 6 notebook: \n",
    "\n",
    "We can reach 98.2% test accuracy with the following configuration:\n",
    "First hidden layer of 256 nodes; second hidden layer of 128 nodes. Dropout regularization rate of 0.2 \n",
    "\n",
    "Taking this into account and several trial and error, the best parameters were found.\n"
   ]
  },
  {
   "cell_type": "markdown",
   "metadata": {
    "id": "PcPvdq1U4rFQ"
   },
   "source": [
    "# Defining the models"
   ]
  },
  {
   "cell_type": "code",
   "execution_count": 17,
   "metadata": {
    "id": "14bfYBrgjHOt"
   },
   "outputs": [],
   "source": [
    "# CNN Model derived from Week 6 lecture code\n",
    "\n",
    "def cnn_model():\n",
    "\n",
    "  # This method defines a simple CNN model\n",
    "\n",
    "  # Parameters: None\n",
    "  \n",
    "  # Return simple CNN model for image classification\n",
    "\n",
    "    model = Sequential()\n",
    "    model.add(Conv2D(filters=16, kernel_size=(5, 5), activation=\"relu\", input_shape=(28,28,3)))\n",
    "    model.add(MaxPooling2D(pool_size=(2, 2)))\n",
    "    model.add(Dropout(0.25))\n",
    "    model.add(Conv2D(filters=32, kernel_size=(5, 5), activation='relu'))\n",
    "    model.add(MaxPooling2D(pool_size=(2, 2)))\n",
    "    model.add(Dropout(0.25))\n",
    "    model.add(Flatten())\n",
    "    model.add(Dense(256, activation='relu'))\n",
    "    model.add(Dropout(0.2))\n",
    "    model.add(Dense(128, activation='relu'))\n",
    "    model.add(Dropout(0.2))\n",
    "    model.add(Dense(1, activation='sigmoid'))\n",
    "\n",
    "    model.compile(optimizer='Adam', loss='binary_crossentropy',  metrics=['accuracy'])\n",
    "\n",
    "    return model"
   ]
  },
  {
   "cell_type": "markdown",
   "metadata": {
    "id": "Q1DFDBhmg2fI"
   },
   "source": [
    "Alternative CNN model, with slight changes in the second convulational layer: Reduction in kernel size and pool size from layer 1"
   ]
  },
  {
   "cell_type": "code",
   "execution_count": 18,
   "metadata": {
    "id": "0l8rrrIpHNS6"
   },
   "outputs": [],
   "source": [
    "def alt_cnn_model():\n",
    "\n",
    "  # This method defines an alternative CNN model, slightly different from the previous one. \n",
    "\n",
    "  # Parameters: None\n",
    "  \n",
    "  # Return alternative CNN model for image classification\n",
    "\n",
    "    model = Sequential()\n",
    "    model.add(Conv2D(filters=16, kernel_size=(5, 5), activation=\"relu\", input_shape=(28,28,3)))\n",
    "    model.add(MaxPooling2D(pool_size=(2, 2)))\n",
    "    model.add(Dropout(0.25))\n",
    "    model.add(Conv2D(filters=32, kernel_size=(3, 3), activation='relu'))\n",
    "    model.add(MaxPooling2D(pool_size=(1, 1)))\n",
    "    model.add(Dropout(0.25))\n",
    "    # model.add(Conv2D(filters=64, kernel_size=(5, 5), activation=\"relu\"))\n",
    "    # model.add(MaxPooling2D(pool_size=(2, 2)))\n",
    "    # model.add(Dropout(0.25))\n",
    "    # model.add(Conv2D(filters=64, kernel_size=(5, 5), activation='relu'))\n",
    "    # model.add(MaxPooling2D(pool_size=(2, 2)))\n",
    "    # model.add(Dropout(0.25))\n",
    "    model.add(Flatten())\n",
    "    model.add(Dense(256, activation='relu'))\n",
    "    model.add(Dropout(0.2))\n",
    "    model.add(Dense(128, activation='relu'))\n",
    "    model.add(Dropout(0.2))\n",
    "    # model.add(Dense(64, activation='relu'))\n",
    "    # model.add(Dropout(0.2))\n",
    "    model.add(Dense(1, activation='sigmoid'))\n",
    "\n",
    "    model.compile(optimizer='Adam', loss='binary_crossentropy',  metrics=['accuracy'])\n",
    "\n",
    "    return model"
   ]
  },
  {
   "cell_type": "markdown",
   "metadata": {
    "id": "cc4P61cuGIeQ"
   },
   "source": [
    "Defining a Kfold cross-validation model. The previous models can be compiled and fitted in this structure"
   ]
  },
  {
   "cell_type": "code",
   "execution_count": 19,
   "metadata": {
    "id": "sB-mluQP4rpZ"
   },
   "outputs": [],
   "source": [
    "def kfold_model(model_, x_train, y_train, class_weight):  \n",
    "\n",
    "  # This method defines the KFold Cross Validation for the CNN model. It also prints important statistics after each fold and at the end of the entire CV process. \n",
    "  \n",
    "  # Parameters: \n",
    "  #   model_: any compatible cnn model, cnn_model() or alt_cnn_model() can be used\n",
    "  #   x_train: set of training images\n",
    "  #   y_train: set of labels corresponding to the training images\n",
    "  #   class_weight: dictionary containing the class weights corresponding to both the classes\n",
    "\n",
    "  # Return CNN model for image classification fitted against the training data in a cross-validation process\n",
    "\n",
    "    acc_per_fold = []\n",
    "    loss_per_fold = []\n",
    "    kfold = KFold(n_splits=10, shuffle=True)\n",
    "\n",
    "    # K-fold Cross Validation model evaluation\n",
    "    fold_no = 1\n",
    "    for train, test in kfold.split(x_train, y_train):\n",
    "\n",
    "        # Compile the model\n",
    "        model_.compile(loss='binary_crossentropy',  optimizer='Adam', metrics=['accuracy'])\n",
    "\n",
    "\n",
    "        # Generate a print\n",
    "        print('------------------------------------------------------------------------')\n",
    "        print(f'Training for fold {fold_no} ...')\n",
    "\n",
    "        # Fit data to model\n",
    "        history = model_.fit(x_train[train], y_train[train],\n",
    "                    batch_size=32,\n",
    "                    epochs=10, callbacks = tf.keras.callbacks.EarlyStopping(monitor='accuracy', patience=3), class_weight = class_weight)\n",
    "\n",
    "        # Generate generalization metrics\n",
    "        scores = model_.evaluate(x_train[test], y_train[test], verbose=0)\n",
    "        print(f'Score for fold {fold_no}: {model_.metrics_names[0]} of {scores[0]}; {model_.metrics_names[1]} of {scores[1]*100}%')\n",
    "        acc_per_fold.append(scores[1] * 100)\n",
    "        loss_per_fold.append(scores[0])\n",
    "\n",
    "        # Increase fold number\n",
    "        fold_no = fold_no + 1\n",
    "\n",
    "  # == Provide average scores ==\n",
    "    print('------------------------------------------------------------------------')\n",
    "    print('Score per fold')\n",
    "    for i in range(0, len(acc_per_fold)):\n",
    "    print('------------------------------------------------------------------------')\n",
    "    print(f'> Fold {i+1} - Loss: {loss_per_fold[i]} - Accuracy: {acc_per_fold[i]}%')\n",
    "    print('------------------------------------------------------------------------')\n",
    "    print('Average scores for all folds:')\n",
    "    print(f'> Accuracy: {np.mean(acc_per_fold)} (+- {np.std(acc_per_fold)})')\n",
    "    print(f'> Loss: {np.mean(loss_per_fold)}')\n",
    "    print('------------------------------------------------------------------------')\n",
    "\n",
    "    return model_"
   ]
  },
  {
   "cell_type": "markdown",
   "metadata": {
    "id": "LBJIFjmrmEV2"
   },
   "source": [
    "Cross-entropy loss, or log loss, measure the performance of a classification model whose output is a probability value between 0 and 1. It is preferred for classification. "
   ]
  },
  {
   "cell_type": "markdown",
   "metadata": {
    "id": "mAt-2rFv4xN8"
   },
   "source": [
    "# **Model Training**"
   ]
  },
  {
   "cell_type": "markdown",
   "metadata": {
    "id": "DIWB0oIBQvXo"
   },
   "source": [
    "Early Stopping has been used in all models to prevent overfitting"
   ]
  },
  {
   "cell_type": "code",
   "execution_count": 20,
   "metadata": {
    "colab": {
     "base_uri": "https://localhost:8080/"
    },
    "id": "xk2u5BbrJ7iz",
    "outputId": "d53fa7a8-5feb-416e-fb27-4a2c16b8bbd5"
   },
   "outputs": [
    {
     "name": "stdout",
     "output_type": "stream",
     "text": [
      "Epoch 1/10\n",
      "91/91 [==============================] - 3s 38ms/step - loss: 0.1263 - accuracy: 0.9672 - val_loss: 0.0058 - val_accuracy: 0.9986\n",
      "Epoch 2/10\n",
      "91/91 [==============================] - 3s 34ms/step - loss: 0.0098 - accuracy: 0.9962 - val_loss: 0.0018 - val_accuracy: 0.9997\n",
      "Epoch 3/10\n",
      "91/91 [==============================] - 3s 32ms/step - loss: 0.0141 - accuracy: 0.9955 - val_loss: 0.0041 - val_accuracy: 0.9979\n",
      "Epoch 4/10\n",
      "91/91 [==============================] - 3s 33ms/step - loss: 0.0102 - accuracy: 0.9965 - val_loss: 0.0055 - val_accuracy: 0.9979\n",
      "Epoch 5/10\n",
      "91/91 [==============================] - 3s 33ms/step - loss: 0.0108 - accuracy: 0.9969 - val_loss: 0.0065 - val_accuracy: 0.9979\n",
      "Epoch 6/10\n",
      "91/91 [==============================] - 3s 33ms/step - loss: 0.0062 - accuracy: 0.9986 - val_loss: 0.0018 - val_accuracy: 0.9990\n",
      "Epoch 7/10\n",
      "91/91 [==============================] - 3s 33ms/step - loss: 5.7250e-04 - accuracy: 1.0000 - val_loss: 0.0013 - val_accuracy: 0.9993\n",
      "Epoch 8/10\n",
      "91/91 [==============================] - 3s 33ms/step - loss: 3.9767e-04 - accuracy: 1.0000 - val_loss: 0.0039 - val_accuracy: 0.9986\n",
      "Epoch 9/10\n",
      "91/91 [==============================] - 3s 34ms/step - loss: 8.7010e-04 - accuracy: 0.9997 - val_loss: 0.0017 - val_accuracy: 0.9993\n",
      "Epoch 10/10\n",
      "91/91 [==============================] - 3s 33ms/step - loss: 0.0012 - accuracy: 0.9993 - val_loss: 0.0021 - val_accuracy: 0.9993\n",
      "Model: \"sequential\"\n",
      "_________________________________________________________________\n",
      "Layer (type)                 Output Shape              Param #   \n",
      "=================================================================\n",
      "conv2d (Conv2D)              (None, 24, 24, 16)        1216      \n",
      "_________________________________________________________________\n",
      "max_pooling2d (MaxPooling2D) (None, 12, 12, 16)        0         \n",
      "_________________________________________________________________\n",
      "dropout (Dropout)            (None, 12, 12, 16)        0         \n",
      "_________________________________________________________________\n",
      "conv2d_1 (Conv2D)            (None, 8, 8, 32)          12832     \n",
      "_________________________________________________________________\n",
      "max_pooling2d_1 (MaxPooling2 (None, 4, 4, 32)          0         \n",
      "_________________________________________________________________\n",
      "dropout_1 (Dropout)          (None, 4, 4, 32)          0         \n",
      "_________________________________________________________________\n",
      "flatten (Flatten)            (None, 512)               0         \n",
      "_________________________________________________________________\n",
      "dense (Dense)                (None, 256)               131328    \n",
      "_________________________________________________________________\n",
      "dropout_2 (Dropout)          (None, 256)               0         \n",
      "_________________________________________________________________\n",
      "dense_1 (Dense)              (None, 128)               32896     \n",
      "_________________________________________________________________\n",
      "dropout_3 (Dropout)          (None, 128)               0         \n",
      "_________________________________________________________________\n",
      "dense_2 (Dense)              (None, 1)                 129       \n",
      "=================================================================\n",
      "Total params: 178,401\n",
      "Trainable params: 178,401\n",
      "Non-trainable params: 0\n",
      "_________________________________________________________________\n"
     ]
    }
   ],
   "source": [
    "model_1 = cnn_model()\n",
    "model_1.fit(x_train, y_train, validation_split = 0.5, epochs=10, batch_size=32, callbacks = tf.keras.callbacks.EarlyStopping(monitor='accuracy', patience=3), class_weight = class_weight)\n",
    "model_1.summary()"
   ]
  },
  {
   "cell_type": "code",
   "execution_count": 21,
   "metadata": {
    "colab": {
     "base_uri": "https://localhost:8080/"
    },
    "id": "8i-o6-dK48n_",
    "outputId": "873ae5aa-8aa2-4f08-a72e-ee7d276fb2a9"
   },
   "outputs": [
    {
     "name": "stdout",
     "output_type": "stream",
     "text": [
      "Epoch 1/10\n",
      "91/91 [==============================] - 4s 40ms/step - loss: 0.0624 - accuracy: 0.9831 - val_loss: 0.0094 - val_accuracy: 0.9965\n",
      "Epoch 2/10\n",
      "91/91 [==============================] - 4s 39ms/step - loss: 0.0132 - accuracy: 0.9969 - val_loss: 0.0204 - val_accuracy: 0.9959\n",
      "Epoch 3/10\n",
      "91/91 [==============================] - 4s 39ms/step - loss: 0.0101 - accuracy: 0.9972 - val_loss: 0.1070 - val_accuracy: 0.9775\n",
      "Epoch 4/10\n",
      "91/91 [==============================] - 4s 39ms/step - loss: 0.0110 - accuracy: 0.9969 - val_loss: 0.0184 - val_accuracy: 0.9969\n",
      "Epoch 5/10\n",
      "91/91 [==============================] - 3s 38ms/step - loss: 0.0035 - accuracy: 0.9986 - val_loss: 0.0187 - val_accuracy: 0.9969\n",
      "Epoch 6/10\n",
      "91/91 [==============================] - 4s 39ms/step - loss: 0.0025 - accuracy: 0.9986 - val_loss: 6.9520e-04 - val_accuracy: 0.9997\n",
      "Epoch 7/10\n",
      "91/91 [==============================] - 4s 39ms/step - loss: 4.1619e-04 - accuracy: 0.9997 - val_loss: 2.8047e-04 - val_accuracy: 1.0000\n",
      "Epoch 8/10\n",
      "91/91 [==============================] - 3s 38ms/step - loss: 1.9212e-04 - accuracy: 1.0000 - val_loss: 8.6101e-04 - val_accuracy: 0.9997\n",
      "Epoch 9/10\n",
      "91/91 [==============================] - 4s 38ms/step - loss: 6.7899e-05 - accuracy: 1.0000 - val_loss: 1.5420e-04 - val_accuracy: 1.0000\n",
      "Epoch 10/10\n",
      "91/91 [==============================] - 4s 47ms/step - loss: 0.0185 - accuracy: 0.9979 - val_loss: 0.0031 - val_accuracy: 0.9983\n",
      "Model: \"sequential_1\"\n",
      "_________________________________________________________________\n",
      "Layer (type)                 Output Shape              Param #   \n",
      "=================================================================\n",
      "conv2d_2 (Conv2D)            (None, 24, 24, 16)        1216      \n",
      "_________________________________________________________________\n",
      "max_pooling2d_2 (MaxPooling2 (None, 12, 12, 16)        0         \n",
      "_________________________________________________________________\n",
      "dropout_4 (Dropout)          (None, 12, 12, 16)        0         \n",
      "_________________________________________________________________\n",
      "conv2d_3 (Conv2D)            (None, 10, 10, 32)        4640      \n",
      "_________________________________________________________________\n",
      "max_pooling2d_3 (MaxPooling2 (None, 10, 10, 32)        0         \n",
      "_________________________________________________________________\n",
      "dropout_5 (Dropout)          (None, 10, 10, 32)        0         \n",
      "_________________________________________________________________\n",
      "flatten_1 (Flatten)          (None, 3200)              0         \n",
      "_________________________________________________________________\n",
      "dense_3 (Dense)              (None, 256)               819456    \n",
      "_________________________________________________________________\n",
      "dropout_6 (Dropout)          (None, 256)               0         \n",
      "_________________________________________________________________\n",
      "dense_4 (Dense)              (None, 128)               32896     \n",
      "_________________________________________________________________\n",
      "dropout_7 (Dropout)          (None, 128)               0         \n",
      "_________________________________________________________________\n",
      "dense_5 (Dense)              (None, 1)                 129       \n",
      "=================================================================\n",
      "Total params: 858,337\n",
      "Trainable params: 858,337\n",
      "Non-trainable params: 0\n",
      "_________________________________________________________________\n"
     ]
    }
   ],
   "source": [
    "model_2 = alt_cnn_model()\n",
    "model_2.fit(x_train, y_train, validation_split = 0.5, epochs=10, batch_size=32, callbacks = tf.keras.callbacks.EarlyStopping(monitor='accuracy', patience=3), class_weight = class_weight)\n",
    "model_2.summary()"
   ]
  },
  {
   "cell_type": "markdown",
   "metadata": {
    "id": "0Tiq2wSmCp2F"
   },
   "source": [
    "# CNN Model with K-Fold"
   ]
  },
  {
   "cell_type": "code",
   "execution_count": 22,
   "metadata": {
    "colab": {
     "base_uri": "https://localhost:8080/"
    },
    "id": "fXCMvPFrdars",
    "outputId": "8aaa63a8-e76b-44b7-a94d-bd5cf5d4299d"
   },
   "outputs": [
    {
     "name": "stdout",
     "output_type": "stream",
     "text": [
      "------------------------------------------------------------------------\n",
      "Training for fold 1 ...\n",
      "Epoch 1/10\n",
      "163/163 [==============================] - 4s 26ms/step - loss: 0.0762 - accuracy: 0.9877\n",
      "Epoch 2/10\n",
      "163/163 [==============================] - 4s 25ms/step - loss: 0.0144 - accuracy: 0.9952\n",
      "Epoch 3/10\n",
      "163/163 [==============================] - 4s 26ms/step - loss: 0.0085 - accuracy: 0.9977\n",
      "Epoch 4/10\n",
      "163/163 [==============================] - 4s 26ms/step - loss: 0.0019 - accuracy: 0.9992\n",
      "Epoch 5/10\n",
      "163/163 [==============================] - 4s 25ms/step - loss: 3.7477e-04 - accuracy: 1.0000\n",
      "Epoch 6/10\n",
      "163/163 [==============================] - 4s 25ms/step - loss: 0.0044 - accuracy: 0.9990\n",
      "Epoch 7/10\n",
      "163/163 [==============================] - 4s 26ms/step - loss: 0.0174 - accuracy: 0.9952\n",
      "Epoch 8/10\n",
      "163/163 [==============================] - 4s 25ms/step - loss: 0.0022 - accuracy: 0.9994\n",
      "Score for fold 1: loss of 0.014360159635543823; accuracy of 99.82728958129883%\n",
      "------------------------------------------------------------------------\n",
      "Training for fold 2 ...\n",
      "Epoch 1/10\n",
      "163/163 [==============================] - 4s 25ms/step - loss: 0.0115 - accuracy: 0.9988\n",
      "Epoch 2/10\n",
      "163/163 [==============================] - 4s 25ms/step - loss: 0.0020 - accuracy: 0.9996\n",
      "Epoch 3/10\n",
      "163/163 [==============================] - 4s 26ms/step - loss: 0.0103 - accuracy: 0.9985\n",
      "Epoch 4/10\n",
      "163/163 [==============================] - 4s 25ms/step - loss: 0.0415 - accuracy: 0.9952\n",
      "Epoch 5/10\n",
      "163/163 [==============================] - 4s 25ms/step - loss: 0.0028 - accuracy: 0.9994\n",
      "Score for fold 2: loss of 1.221189450006932e-05; accuracy of 100.0%\n",
      "------------------------------------------------------------------------\n",
      "Training for fold 3 ...\n",
      "Epoch 1/10\n",
      "163/163 [==============================] - 4s 24ms/step - loss: 0.0048 - accuracy: 0.9994\n",
      "Epoch 2/10\n",
      "163/163 [==============================] - 4s 25ms/step - loss: 0.0033 - accuracy: 0.9994\n",
      "Epoch 3/10\n",
      "163/163 [==============================] - 4s 24ms/step - loss: 2.8732e-05 - accuracy: 1.0000\n",
      "Epoch 4/10\n",
      "163/163 [==============================] - 4s 25ms/step - loss: 0.0457 - accuracy: 0.9987\n",
      "Epoch 5/10\n",
      "163/163 [==============================] - 4s 24ms/step - loss: 0.0167 - accuracy: 0.9971\n",
      "Epoch 6/10\n",
      "163/163 [==============================] - 4s 24ms/step - loss: 0.0025 - accuracy: 0.9990\n",
      "Score for fold 3: loss of 4.195539418105909e-07; accuracy of 100.0%\n",
      "------------------------------------------------------------------------\n",
      "Training for fold 4 ...\n",
      "Epoch 1/10\n",
      "163/163 [==============================] - 4s 24ms/step - loss: 0.0071 - accuracy: 0.9996\n",
      "Epoch 2/10\n",
      "163/163 [==============================] - 4s 25ms/step - loss: 0.0344 - accuracy: 0.9979\n",
      "Epoch 3/10\n",
      "163/163 [==============================] - 4s 25ms/step - loss: 1.2509e-04 - accuracy: 0.9998\n",
      "Epoch 4/10\n",
      "163/163 [==============================] - 4s 25ms/step - loss: 4.4691e-05 - accuracy: 1.0000\n",
      "Epoch 5/10\n",
      "163/163 [==============================] - 4s 25ms/step - loss: 0.0062 - accuracy: 0.9988\n",
      "Epoch 6/10\n",
      "163/163 [==============================] - 4s 25ms/step - loss: 0.0139 - accuracy: 0.9983\n",
      "Epoch 7/10\n",
      "163/163 [==============================] - 4s 25ms/step - loss: 1.2176e-04 - accuracy: 1.0000\n",
      "Score for fold 4: loss of 1.4555903362634126e-06; accuracy of 100.0%\n",
      "------------------------------------------------------------------------\n",
      "Training for fold 5 ...\n",
      "Epoch 1/10\n",
      "163/163 [==============================] - 4s 24ms/step - loss: 0.0137 - accuracy: 0.9990\n",
      "Epoch 2/10\n",
      "163/163 [==============================] - 4s 25ms/step - loss: 6.2715e-06 - accuracy: 1.0000\n",
      "Epoch 3/10\n",
      "163/163 [==============================] - 4s 25ms/step - loss: 0.0125 - accuracy: 0.9985\n",
      "Epoch 4/10\n",
      "163/163 [==============================] - 4s 25ms/step - loss: 0.0277 - accuracy: 0.9981\n",
      "Epoch 5/10\n",
      "163/163 [==============================] - 4s 25ms/step - loss: 0.0752 - accuracy: 0.9971\n",
      "Score for fold 5: loss of 0.008454058319330215; accuracy of 99.82699155807495%\n",
      "------------------------------------------------------------------------\n",
      "Training for fold 6 ...\n",
      "Epoch 1/10\n",
      "163/163 [==============================] - 4s 25ms/step - loss: 0.0012 - accuracy: 0.9998\n",
      "Epoch 2/10\n",
      "163/163 [==============================] - 4s 25ms/step - loss: 0.0170 - accuracy: 0.9994\n",
      "Epoch 3/10\n",
      "163/163 [==============================] - 4s 25ms/step - loss: 2.6307e-04 - accuracy: 1.0000\n",
      "Epoch 4/10\n",
      "163/163 [==============================] - 4s 25ms/step - loss: 0.0668 - accuracy: 0.9971\n",
      "Epoch 5/10\n",
      "163/163 [==============================] - 4s 25ms/step - loss: 0.0012 - accuracy: 0.9998\n",
      "Epoch 6/10\n",
      "163/163 [==============================] - 4s 25ms/step - loss: 4.5071e-04 - accuracy: 0.9998\n",
      "Score for fold 6: loss of 6.499452109687507e-20; accuracy of 100.0%\n",
      "------------------------------------------------------------------------\n",
      "Training for fold 7 ...\n",
      "Epoch 1/10\n",
      "163/163 [==============================] - 4s 27ms/step - loss: 0.0012 - accuracy: 0.9998\n",
      "Epoch 2/10\n",
      "163/163 [==============================] - 4s 26ms/step - loss: 7.5936e-08 - accuracy: 1.0000\n",
      "Epoch 3/10\n",
      "163/163 [==============================] - 4s 26ms/step - loss: 5.6950e-08 - accuracy: 1.0000\n",
      "Epoch 4/10\n",
      "163/163 [==============================] - 4s 27ms/step - loss: 4.2748e-12 - accuracy: 1.0000\n",
      "Epoch 5/10\n",
      "163/163 [==============================] - 4s 25ms/step - loss: 0.0312 - accuracy: 0.9985\n",
      "Score for fold 7: loss of 1.0627645817421275e-13; accuracy of 100.0%\n",
      "------------------------------------------------------------------------\n",
      "Training for fold 8 ...\n",
      "Epoch 1/10\n",
      "163/163 [==============================] - 4s 25ms/step - loss: 2.4934e-05 - accuracy: 1.0000\n",
      "Epoch 2/10\n",
      "163/163 [==============================] - 4s 25ms/step - loss: 0.0372 - accuracy: 0.9994\n",
      "Epoch 3/10\n",
      "163/163 [==============================] - 4s 25ms/step - loss: 1.0678e-07 - accuracy: 1.0000\n",
      "Epoch 4/10\n",
      "163/163 [==============================] - 4s 25ms/step - loss: 0.0417 - accuracy: 0.9985\n",
      "Score for fold 8: loss of 1.3439645953776757e-17; accuracy of 100.0%\n",
      "------------------------------------------------------------------------\n",
      "Training for fold 9 ...\n",
      "Epoch 1/10\n",
      "163/163 [==============================] - 4s 26ms/step - loss: 0.0120 - accuracy: 0.9994\n",
      "Epoch 2/10\n",
      "163/163 [==============================] - 4s 26ms/step - loss: 0.0070 - accuracy: 0.9996\n",
      "Epoch 3/10\n",
      "163/163 [==============================] - 4s 25ms/step - loss: 0.0074 - accuracy: 0.9994\n",
      "Epoch 4/10\n",
      "163/163 [==============================] - 4s 26ms/step - loss: 0.0020 - accuracy: 0.9996\n",
      "Epoch 5/10\n",
      "163/163 [==============================] - 4s 26ms/step - loss: 0.0138 - accuracy: 0.9990\n",
      "Score for fold 9: loss of 2.939031611660521e-17; accuracy of 100.0%\n",
      "------------------------------------------------------------------------\n",
      "Training for fold 10 ...\n",
      "Epoch 1/10\n",
      "163/163 [==============================] - 4s 25ms/step - loss: 0.0037 - accuracy: 0.9996\n",
      "Epoch 2/10\n",
      "163/163 [==============================] - 4s 25ms/step - loss: 0.0349 - accuracy: 0.9996\n",
      "Epoch 3/10\n",
      "163/163 [==============================] - 4s 26ms/step - loss: 9.6562e-07 - accuracy: 1.0000\n",
      "Epoch 4/10\n",
      "163/163 [==============================] - 4s 27ms/step - loss: 1.7893e-08 - accuracy: 1.0000\n",
      "Epoch 5/10\n",
      "163/163 [==============================] - 5s 30ms/step - loss: 2.7306e-08 - accuracy: 1.0000\n",
      "Epoch 6/10\n",
      "163/163 [==============================] - 5s 29ms/step - loss: 0.0020 - accuracy: 0.9998\n",
      "Score for fold 10: loss of 2.2384533115982208e-10; accuracy of 100.0%\n",
      "------------------------------------------------------------------------\n",
      "Score per fold\n",
      "------------------------------------------------------------------------\n",
      "> Fold 1 - Loss: 0.014360159635543823 - Accuracy: 99.82728958129883%\n",
      "------------------------------------------------------------------------\n",
      "> Fold 2 - Loss: 1.221189450006932e-05 - Accuracy: 100.0%\n",
      "------------------------------------------------------------------------\n",
      "> Fold 3 - Loss: 4.195539418105909e-07 - Accuracy: 100.0%\n",
      "------------------------------------------------------------------------\n",
      "> Fold 4 - Loss: 1.4555903362634126e-06 - Accuracy: 100.0%\n",
      "------------------------------------------------------------------------\n",
      "> Fold 5 - Loss: 0.008454058319330215 - Accuracy: 99.82699155807495%\n",
      "------------------------------------------------------------------------\n",
      "> Fold 6 - Loss: 6.499452109687507e-20 - Accuracy: 100.0%\n",
      "------------------------------------------------------------------------\n",
      "> Fold 7 - Loss: 1.0627645817421275e-13 - Accuracy: 100.0%\n",
      "------------------------------------------------------------------------\n",
      "> Fold 8 - Loss: 1.3439645953776757e-17 - Accuracy: 100.0%\n",
      "------------------------------------------------------------------------\n",
      "> Fold 9 - Loss: 2.939031611660521e-17 - Accuracy: 100.0%\n",
      "------------------------------------------------------------------------\n",
      "> Fold 10 - Loss: 2.2384533115982208e-10 - Accuracy: 100.0%\n",
      "------------------------------------------------------------------------\n",
      "Average scores for all folds:\n",
      "> Accuracy: 99.96542811393738 (+- 0.06914380423870085)\n",
      "> Loss: 0.002282830521760383\n",
      "------------------------------------------------------------------------\n"
     ]
    }
   ],
   "source": [
    "model_3 = cnn_model()\n",
    "model_3 = kfold_model(model_3, x_train, y_train, class_weight)"
   ]
  },
  {
   "cell_type": "code",
   "execution_count": 23,
   "metadata": {
    "colab": {
     "base_uri": "https://localhost:8080/"
    },
    "id": "5r3Vpd4rBWeR",
    "outputId": "3953b3fa-350b-4858-b35f-34a6f601540d"
   },
   "outputs": [
    {
     "name": "stdout",
     "output_type": "stream",
     "text": [
      "------------------------------------------------------------------------\n",
      "Training for fold 1 ...\n",
      "Epoch 1/10\n",
      "163/163 [==============================] - 5s 30ms/step - loss: 0.0912 - accuracy: 0.9873\n",
      "Epoch 2/10\n",
      "163/163 [==============================] - 5s 30ms/step - loss: 0.0276 - accuracy: 0.9950\n",
      "Epoch 3/10\n",
      "163/163 [==============================] - 5s 30ms/step - loss: 0.0052 - accuracy: 0.9985\n",
      "Epoch 4/10\n",
      "163/163 [==============================] - 5s 31ms/step - loss: 0.0078 - accuracy: 0.9975\n",
      "Epoch 5/10\n",
      "163/163 [==============================] - 5s 30ms/step - loss: 0.0086 - accuracy: 0.9975\n",
      "Epoch 6/10\n",
      "163/163 [==============================] - 5s 30ms/step - loss: 0.0027 - accuracy: 0.9992\n",
      "Epoch 7/10\n",
      "163/163 [==============================] - 5s 30ms/step - loss: 1.5658e-04 - accuracy: 1.0000\n",
      "Epoch 8/10\n",
      "163/163 [==============================] - 5s 30ms/step - loss: 1.6803e-04 - accuracy: 1.0000\n",
      "Epoch 9/10\n",
      "163/163 [==============================] - 5s 30ms/step - loss: 0.0087 - accuracy: 0.9985\n",
      "Epoch 10/10\n",
      "163/163 [==============================] - 5s 30ms/step - loss: 0.0049 - accuracy: 0.9983\n",
      "Score for fold 1: loss of 0.004382787272334099; accuracy of 99.82728958129883%\n",
      "------------------------------------------------------------------------\n",
      "Training for fold 2 ...\n",
      "Epoch 1/10\n",
      "163/163 [==============================] - 5s 30ms/step - loss: 0.0039 - accuracy: 0.9994\n",
      "Epoch 2/10\n",
      "163/163 [==============================] - 5s 32ms/step - loss: 0.0229 - accuracy: 0.9973\n",
      "Epoch 3/10\n",
      "163/163 [==============================] - 5s 30ms/step - loss: 0.0052 - accuracy: 0.9988\n",
      "Epoch 4/10\n",
      "163/163 [==============================] - 5s 30ms/step - loss: 2.3447e-04 - accuracy: 0.9998\n",
      "Epoch 5/10\n",
      "163/163 [==============================] - 5s 30ms/step - loss: 0.0370 - accuracy: 0.9963\n",
      "Epoch 6/10\n",
      "163/163 [==============================] - 5s 30ms/step - loss: 0.0064 - accuracy: 0.9985\n",
      "Epoch 7/10\n",
      "163/163 [==============================] - 5s 30ms/step - loss: 0.0011 - accuracy: 0.9998\n",
      "Score for fold 2: loss of 0.000858215382322669; accuracy of 100.0%\n",
      "------------------------------------------------------------------------\n",
      "Training for fold 3 ...\n",
      "Epoch 1/10\n",
      "163/163 [==============================] - 5s 30ms/step - loss: 0.0424 - accuracy: 0.9994\n",
      "Epoch 2/10\n",
      "163/163 [==============================] - 5s 30ms/step - loss: 0.0151 - accuracy: 0.9987\n",
      "Epoch 3/10\n",
      "163/163 [==============================] - 5s 30ms/step - loss: 0.0015 - accuracy: 0.9998\n",
      "Epoch 4/10\n",
      "163/163 [==============================] - 5s 30ms/step - loss: 1.1221e-04 - accuracy: 0.9998\n",
      "Epoch 5/10\n",
      "163/163 [==============================] - 5s 30ms/step - loss: 1.7783e-06 - accuracy: 1.0000\n",
      "Epoch 6/10\n",
      "163/163 [==============================] - 5s 30ms/step - loss: 1.5170e-06 - accuracy: 1.0000\n",
      "Epoch 7/10\n",
      "163/163 [==============================] - 5s 30ms/step - loss: 0.0212 - accuracy: 0.9988\n",
      "Epoch 8/10\n",
      "163/163 [==============================] - 5s 30ms/step - loss: 0.0622 - accuracy: 0.9942\n",
      "Score for fold 3: loss of 4.287985799766858e-10; accuracy of 100.0%\n",
      "------------------------------------------------------------------------\n",
      "Training for fold 4 ...\n",
      "Epoch 1/10\n",
      "163/163 [==============================] - 5s 30ms/step - loss: 0.0058 - accuracy: 0.9992\n",
      "Epoch 2/10\n",
      "163/163 [==============================] - 5s 30ms/step - loss: 1.8327e-04 - accuracy: 0.9998\n",
      "Epoch 3/10\n",
      "163/163 [==============================] - 5s 30ms/step - loss: 0.0045 - accuracy: 0.9990\n",
      "Epoch 4/10\n",
      "163/163 [==============================] - 5s 30ms/step - loss: 4.1698e-05 - accuracy: 1.0000\n",
      "Epoch 5/10\n",
      "163/163 [==============================] - 5s 30ms/step - loss: 0.0388 - accuracy: 0.9981\n",
      "Epoch 6/10\n",
      "163/163 [==============================] - 5s 29ms/step - loss: 0.0303 - accuracy: 0.9990\n",
      "Epoch 7/10\n",
      "163/163 [==============================] - 5s 30ms/step - loss: 1.4013e-05 - accuracy: 1.0000\n",
      "Score for fold 4: loss of 1.0214961099208608e-09; accuracy of 100.0%\n",
      "------------------------------------------------------------------------\n",
      "Training for fold 5 ...\n",
      "Epoch 1/10\n",
      "163/163 [==============================] - 5s 30ms/step - loss: 0.0119 - accuracy: 0.9994\n",
      "Epoch 2/10\n",
      "163/163 [==============================] - 5s 31ms/step - loss: 0.0024 - accuracy: 0.9998\n",
      "Epoch 3/10\n",
      "163/163 [==============================] - 5s 31ms/step - loss: 3.3512e-04 - accuracy: 0.9998\n",
      "Epoch 4/10\n",
      "163/163 [==============================] - 5s 31ms/step - loss: 0.0131 - accuracy: 0.9987\n",
      "Epoch 5/10\n",
      "163/163 [==============================] - 5s 31ms/step - loss: 0.0041 - accuracy: 0.9998\n",
      "Score for fold 5: loss of 3.5696044164978957e-07; accuracy of 100.0%\n",
      "------------------------------------------------------------------------\n",
      "Training for fold 6 ...\n",
      "Epoch 1/10\n",
      "163/163 [==============================] - 5s 31ms/step - loss: 6.2407e-06 - accuracy: 1.0000\n",
      "Epoch 2/10\n",
      "163/163 [==============================] - 5s 31ms/step - loss: 6.2923e-08 - accuracy: 1.0000\n",
      "Epoch 3/10\n",
      "163/163 [==============================] - 5s 31ms/step - loss: 0.0575 - accuracy: 0.9988\n",
      "Epoch 4/10\n",
      "163/163 [==============================] - 5s 31ms/step - loss: 0.0013 - accuracy: 0.9994\n",
      "Score for fold 6: loss of 1.5993582014317553e-09; accuracy of 100.0%\n",
      "------------------------------------------------------------------------\n",
      "Training for fold 7 ...\n",
      "Epoch 1/10\n",
      "163/163 [==============================] - 5s 30ms/step - loss: 0.0080 - accuracy: 0.9994\n",
      "Epoch 2/10\n",
      "163/163 [==============================] - 5s 30ms/step - loss: 6.3399e-10 - accuracy: 1.0000\n",
      "Epoch 3/10\n",
      "163/163 [==============================] - 5s 30ms/step - loss: 1.0925e-06 - accuracy: 1.0000\n",
      "Epoch 4/10\n",
      "163/163 [==============================] - 5s 30ms/step - loss: 0.0589 - accuracy: 0.9990\n",
      "Epoch 5/10\n",
      "163/163 [==============================] - 5s 30ms/step - loss: 0.0131 - accuracy: 0.9985\n",
      "Score for fold 7: loss of 5.329175020890619e-16; accuracy of 100.0%\n",
      "------------------------------------------------------------------------\n",
      "Training for fold 8 ...\n",
      "Epoch 1/10\n",
      "163/163 [==============================] - 5s 30ms/step - loss: 0.0028 - accuracy: 0.9996\n",
      "Epoch 2/10\n",
      "163/163 [==============================] - 5s 30ms/step - loss: 2.7390e-07 - accuracy: 1.0000\n",
      "Epoch 3/10\n",
      "163/163 [==============================] - 5s 30ms/step - loss: 1.3091e-09 - accuracy: 1.0000\n",
      "Epoch 4/10\n",
      "163/163 [==============================] - 5s 30ms/step - loss: 1.6219e-09 - accuracy: 1.0000\n",
      "Epoch 5/10\n",
      "163/163 [==============================] - 5s 30ms/step - loss: 0.0933 - accuracy: 0.9969\n",
      "Score for fold 8: loss of 0.04946541413664818; accuracy of 99.30796027183533%\n",
      "------------------------------------------------------------------------\n",
      "Training for fold 9 ...\n",
      "Epoch 1/10\n",
      "163/163 [==============================] - 5s 30ms/step - loss: 0.0038 - accuracy: 0.9996\n",
      "Epoch 2/10\n",
      "163/163 [==============================] - 5s 30ms/step - loss: 0.0175 - accuracy: 0.9988\n",
      "Epoch 3/10\n",
      "163/163 [==============================] - 5s 30ms/step - loss: 2.0353e-05 - accuracy: 1.0000\n",
      "Epoch 4/10\n",
      "163/163 [==============================] - 5s 30ms/step - loss: 0.0064 - accuracy: 0.9990\n",
      "Epoch 5/10\n",
      "163/163 [==============================] - 5s 30ms/step - loss: 0.0015 - accuracy: 0.9998\n",
      "Epoch 6/10\n",
      "163/163 [==============================] - 5s 30ms/step - loss: 1.5764e-08 - accuracy: 1.0000\n",
      "Score for fold 9: loss of 5.562781218366015e-20; accuracy of 100.0%\n",
      "------------------------------------------------------------------------\n",
      "Training for fold 10 ...\n",
      "Epoch 1/10\n",
      "163/163 [==============================] - 5s 30ms/step - loss: 2.7286e-12 - accuracy: 1.0000\n",
      "Epoch 2/10\n",
      "163/163 [==============================] - 5s 30ms/step - loss: 0.0500 - accuracy: 0.9998\n",
      "Epoch 3/10\n",
      "163/163 [==============================] - 5s 32ms/step - loss: 7.4433e-07 - accuracy: 1.0000\n",
      "Epoch 4/10\n",
      "163/163 [==============================] - 5s 31ms/step - loss: 8.4673e-06 - accuracy: 1.0000\n",
      "Score for fold 10: loss of 6.547942632550985e-08; accuracy of 100.0%\n",
      "------------------------------------------------------------------------\n",
      "Score per fold\n",
      "------------------------------------------------------------------------\n",
      "> Fold 1 - Loss: 0.004382787272334099 - Accuracy: 99.82728958129883%\n",
      "------------------------------------------------------------------------\n",
      "> Fold 2 - Loss: 0.000858215382322669 - Accuracy: 100.0%\n",
      "------------------------------------------------------------------------\n",
      "> Fold 3 - Loss: 4.287985799766858e-10 - Accuracy: 100.0%\n",
      "------------------------------------------------------------------------\n",
      "> Fold 4 - Loss: 1.0214961099208608e-09 - Accuracy: 100.0%\n",
      "------------------------------------------------------------------------\n",
      "> Fold 5 - Loss: 3.5696044164978957e-07 - Accuracy: 100.0%\n",
      "------------------------------------------------------------------------\n",
      "> Fold 6 - Loss: 1.5993582014317553e-09 - Accuracy: 100.0%\n",
      "------------------------------------------------------------------------\n",
      "> Fold 7 - Loss: 5.329175020890619e-16 - Accuracy: 100.0%\n",
      "------------------------------------------------------------------------\n",
      "> Fold 8 - Loss: 0.04946541413664818 - Accuracy: 99.30796027183533%\n",
      "------------------------------------------------------------------------\n",
      "> Fold 9 - Loss: 5.562781218366015e-20 - Accuracy: 100.0%\n",
      "------------------------------------------------------------------------\n",
      "> Fold 10 - Loss: 6.547942632550985e-08 - Accuracy: 100.0%\n",
      "------------------------------------------------------------------------\n",
      "Average scores for all folds:\n",
      "> Accuracy: 99.91352498531342 (+- 0.2083191283669645)\n",
      "> Loss: 0.005470684228082634\n",
      "------------------------------------------------------------------------\n"
     ]
    }
   ],
   "source": [
    "model_4 = alt_cnn_model()\n",
    "model_4 = kfold_model(model_4, x_train, y_train, class_weight)"
   ]
  },
  {
   "cell_type": "markdown",
   "metadata": {
    "id": "_Vfo1mQkB8D1"
   },
   "source": [
    "## Testing the accuracy against test set\n",
    "\n",
    "Highly important part of this project where we test the trained model against the test data. By predicting the proba on unseen data, we can calculate the accuracy of the model on an out-of-sample dataset. This function also plots the probas of 0 and 1 separately to see how good of a distinguishment it can make between the classes."
   ]
  },
  {
   "cell_type": "code",
   "execution_count": 24,
   "metadata": {
    "id": "vz_2A90MLI4o"
   },
   "outputs": [],
   "source": [
    "def plot_probas(model, x_test, y_test):\n",
    "    \n",
    "    # This method helps predict proba on the test set.\n",
    "    # It also plots the probas separately for both classes to see how well the model can differentiate anomaly from normal data\n",
    "    \n",
    "    # Parameters: \n",
    "    #  model: the trained cnn model\n",
    "    #  x_test: test set of images\n",
    "    #  y_test: labels in the test set\n",
    "    \n",
    "    # Returns: None\n",
    "\n",
    "    output = []\n",
    "\n",
    "    for i in range(x_test.shape[0]):\n",
    "\n",
    "        img = x_test[i]\n",
    "        proba = pd.DataFrame(model_1.predict(img.reshape(1,28,28,3))).iloc[0][0]\n",
    "        output = np.append(output, proba)\n",
    "\n",
    "\n",
    "    print(\"Accuracy score is: \" + str(sklearn.metrics.roc_auc_score(y_test, output)))\n",
    "\n",
    "    y_test_df = pd.DataFrame(y_test)\n",
    "    ones = y_test_df[y_test_df[0]==1].index.values\n",
    "    zeroes = y_test_df[y_test_df[0]==0].index.values\n",
    "    x_ones = output[ones]\n",
    "    x_zeroes = output[zeroes]\n",
    "\n",
    "\n",
    "    plt.plot(range(len(x_zeroes)), x_zeroes, linestyle='-', linewidth=1, label=\"Probas of Zeroes\")\n",
    "    plt.legend(loc='best')\n",
    "    plt.grid()\n",
    "    plt.xlabel('sample index')\n",
    "    plt.ylabel('proba')\n",
    "    plt.show()\n",
    "\n",
    "\n",
    "    plt.plot(range(len(x_ones)), x_ones, linestyle='-', linewidth=1, label=\"Probas of Ones\")\n",
    "    plt.legend(loc='best')\n",
    "    plt.grid()\n",
    "    plt.xlabel('sample index')\n",
    "    plt.ylabel('proba')\n",
    "    plt.show()\n",
    "\n",
    "\n",
    "  "
   ]
  },
  {
   "cell_type": "markdown",
   "metadata": {
    "id": "FsQI7n2ZaDn3"
   },
   "source": [
    "Simple CNN Model"
   ]
  },
  {
   "cell_type": "code",
   "execution_count": 25,
   "metadata": {
    "colab": {
     "base_uri": "https://localhost:8080/",
     "height": 569
    },
    "id": "trDDUdkud9eB",
    "outputId": "e7a39c9e-1fc3-47a5-eb98-fd7057c1d893"
   },
   "outputs": [
    {
     "name": "stdout",
     "output_type": "stream",
     "text": [
      "Accuracy score is: 1.0\n"
     ]
    },
    {
     "data": {
      "image/png": "[encoded data removed]",
      "text/plain": [
       "<Figure size 432x288 with 1 Axes>"
      ]
     },
     "metadata": {
      "needs_background": "light",
      "tags": []
     },
     "output_type": "display_data"
    },
    {
     "data": {
      "image/png": "[encoded data removed]",
      "text/plain": [
       "<Figure size 432x288 with 1 Axes>"
      ]
     },
     "metadata": {
      "needs_background": "light",
      "tags": []
     },
     "output_type": "display_data"
    }
   ],
   "source": [
    "plot_probas(model_1, x_test, y_test)"
   ]
  },
  {
   "cell_type": "markdown",
   "metadata": {
    "id": "TStZNCj8aGD6"
   },
   "source": [
    "Alternative CNN Model"
   ]
  },
  {
   "cell_type": "code",
   "execution_count": 26,
   "metadata": {
    "colab": {
     "base_uri": "https://localhost:8080/",
     "height": 569
    },
    "id": "uW0QFJDKBbpM",
    "outputId": "7b3c1100-8b93-4939-94ab-07e956fa4d20"
   },
   "outputs": [
    {
     "name": "stdout",
     "output_type": "stream",
     "text": [
      "Accuracy score is: 1.0\n"
     ]
    },
    {
     "data": {
      "image/png": "[encoded data removed]",
      "text/plain": [
       "<Figure size 432x288 with 1 Axes>"
      ]
     },
     "metadata": {
      "needs_background": "light",
      "tags": []
     },
     "output_type": "display_data"
    },
    {
     "data": {
      "image/png": "[encoded data removed]",
      "text/plain": [
       "<Figure size 432x288 with 1 Axes>"
      ]
     },
     "metadata": {
      "needs_background": "light",
      "tags": []
     },
     "output_type": "display_data"
    }
   ],
   "source": [
    "plot_probas(model_2, x_test, y_test)"
   ]
  },
  {
   "cell_type": "markdown",
   "metadata": {
    "id": "N8vejClVaJk-"
   },
   "source": [
    "Simple CNN Model with KFold CV"
   ]
  },
  {
   "cell_type": "code",
   "execution_count": 27,
   "metadata": {
    "colab": {
     "base_uri": "https://localhost:8080/",
     "height": 569
    },
    "id": "3C363qbiBcSz",
    "outputId": "93b1039c-738a-4a41-e0f8-bbe8d996cc36"
   },
   "outputs": [
    {
     "name": "stdout",
     "output_type": "stream",
     "text": [
      "Accuracy score is: 1.0\n"
     ]
    },
    {
     "data": {
      "image/png": "[encoded data removed]",
      "text/plain": [
       "<Figure size 432x288 with 1 Axes>"
      ]
     },
     "metadata": {
      "needs_background": "light",
      "tags": []
     },
     "output_type": "display_data"
    },
    {
     "data": {
      "image/png": "[encoded data removed]",
      "text/plain": [
       "<Figure size 432x288 with 1 Axes>"
      ]
     },
     "metadata": {
      "needs_background": "light",
      "tags": []
     },
     "output_type": "display_data"
    }
   ],
   "source": [
    "plot_probas(model_3, x_test, y_test)"
   ]
  },
  {
   "cell_type": "markdown",
   "metadata": {
    "id": "OsGKS6xwaO7V"
   },
   "source": [
    "Alternate CNN Model with KFold CV"
   ]
  },
  {
   "cell_type": "code",
   "execution_count": 28,
   "metadata": {
    "colab": {
     "base_uri": "https://localhost:8080/",
     "height": 569
    },
    "id": "Bmk0hUuhBdH6",
    "outputId": "8554113e-b009-47d2-d48d-c7c6eeb25626"
   },
   "outputs": [
    {
     "name": "stdout",
     "output_type": "stream",
     "text": [
      "Accuracy score is: 1.0\n"
     ]
    },
    {
     "data": {
      "image/png": "[encoded data removed]",
      "text/plain": [
       "<Figure size 432x288 with 1 Axes>"
      ]
     },
     "metadata": {
      "needs_background": "light",
      "tags": []
     },
     "output_type": "display_data"
    },
    {
     "data": {
      "image/png": "[encoded data removed]",
      "text/plain": [
       "<Figure size 432x288 with 1 Axes>"
      ]
     },
     "metadata": {
      "needs_background": "light",
      "tags": []
     },
     "output_type": "display_data"
    }
   ],
   "source": [
    "plot_probas(model_4, x_test, y_test)"
   ]
  },
  {
   "cell_type": "markdown",
   "metadata": {
    "id": "RzMtuQxfBh5R"
   },
   "source": [
    "# **Autoencoder**"
   ]
  },
  {
   "cell_type": "markdown",
   "metadata": {
    "id": "25m7EwYbeJRG"
   },
   "source": [
    "# Choosing train, test and anomaly rows"
   ]
  },
  {
   "cell_type": "markdown",
   "metadata": {
    "id": "GRGMSDp6eWLR"
   },
   "source": [
    "Choosing train rows; 4500 rows of normal data"
   ]
  },
  {
   "cell_type": "code",
   "execution_count": 29,
   "metadata": {
    "id": "9Gy2een2aE_M"
   },
   "outputs": [],
   "source": [
    "zero = train_csv[train_csv.label == 0].index.values   # selects the 0 values\n",
    "train_rows = np.random.choice(zero, 4500, replace = False) \n",
    "\n",
    "# to follow the same order of indexing \n",
    "train_rows.sort() \n",
    "\n",
    "\n",
    "x_train = images_autoencoder[train_rows]\n",
    "y_train = train_csv.iloc[train_rows]\n",
    "y_train = np.array(y_train.drop(['id'],axis=1))"
   ]
  },
  {
   "cell_type": "markdown",
   "metadata": {
    "id": "wFihAqjIeYDm"
   },
   "source": [
    "Choosing test rows; 500 rows of normal data, separate from the training set"
   ]
  },
  {
   "cell_type": "code",
   "execution_count": 30,
   "metadata": {
    "id": "jkn9CFaaVIZi"
   },
   "outputs": [],
   "source": [
    "diff_zero = np.setdiff1d(zero, train_rows)\n",
    "test_rows = np.random.choice(diff_zero, 500, replace = False) \n",
    "\n",
    "# to follow the same order of indexing \n",
    "test_rows.sort()\n",
    "\n",
    "x_test = images_autoencoder[test_rows]\n",
    "y_test = train_csv.iloc[test_rows]\n",
    "y_test = np.array(y_test.drop(['id'],axis=1))"
   ]
  },
  {
   "cell_type": "markdown",
   "metadata": {
    "id": "IBMhhL4qZ4ba"
   },
   "source": [
    "Choosing Anomaly Rows; 500 rows of anomalous data."
   ]
  },
  {
   "cell_type": "code",
   "execution_count": 31,
   "metadata": {
    "id": "vW_VNXwrZwoj"
   },
   "outputs": [],
   "source": [
    "anomaly_rows = train_csv[train_csv.label == 1].index.values    # selects the 1 values\n",
    "\n",
    "# to follow the same order of indexing \n",
    "anomaly_rows.sort()\n",
    "\n",
    "x_anomaly = images_autoencoder[anomaly_rows]\n",
    "y_anomaly = train_csv.iloc[anomaly_rows]\n",
    "y_anomaly = np.array(y_anomaly.drop(['id'],axis=1))"
   ]
  },
  {
   "cell_type": "markdown",
   "metadata": {
    "id": "qUaVlPXmZSDY"
   },
   "source": [
    "# Processing of train, test and anomaly sets"
   ]
  },
  {
   "cell_type": "markdown",
   "metadata": {
    "id": "g-ydmUrRYKwN"
   },
   "source": [
    "Normalising the values (between 0 and 1)"
   ]
  },
  {
   "cell_type": "code",
   "execution_count": 32,
   "metadata": {
    "id": "XjTNzxGZYKHB"
   },
   "outputs": [],
   "source": [
    "x_train = x_train/255\n",
    "x_test = x_test/255\n",
    "x_anomaly = x_anomaly/255\n",
    "test_images_autoencoder = test_images_autoencoder/255"
   ]
  },
  {
   "cell_type": "markdown",
   "metadata": {
    "id": "2fIS6tqmewuN"
   },
   "source": [
    "Reshaping of datasets"
   ]
  },
  {
   "cell_type": "code",
   "execution_count": 33,
   "metadata": {
    "id": "8dTy8zeeejXz"
   },
   "outputs": [],
   "source": [
    "x_train = x_train.reshape(-1,28*28)\n",
    "x_test = x_test.reshape(-1,28*28)\n",
    "x_anomaly = x_anomaly.reshape(-1,28*28)\n",
    "test_images_autoencoder = test_images_autoencoder.reshape(-1,28*28)"
   ]
  },
  {
   "cell_type": "markdown",
   "metadata": {
    "id": "BLScR0YXcxWZ"
   },
   "source": [
    "Will require this concatenated data for plotting losses later"
   ]
  },
  {
   "cell_type": "code",
   "execution_count": 34,
   "metadata": {
    "id": "Bz7YJFahtq4H"
   },
   "outputs": [],
   "source": [
    "x_concat = np.concatenate([x_test, x_anomaly], axis=0)"
   ]
  },
  {
   "cell_type": "markdown",
   "metadata": {
    "id": "tdWtH60F2Pid"
   },
   "source": [
    "# Defining Autencoder and Deep Autoencoder models"
   ]
  },
  {
   "cell_type": "code",
   "execution_count": 35,
   "metadata": {
    "id": "k_SltSqttZ5i"
   },
   "outputs": [],
   "source": [
    "def autoencoder_model():\n",
    "\n",
    "  # This method defines a simple autoencoder model, with just 2 layers in the sequence\n",
    "  \n",
    "  # Parameters: None\n",
    "\n",
    "  # Returns: an autoencoder model \n",
    "  \n",
    "    input_shape=(784,)\n",
    "    model = Sequential()\n",
    "    model.add(Dense(64, activation='relu', input_shape=input_shape))\n",
    "    model.add(Dense(784, activation='sigmoid'))\n",
    "\n",
    "    return model\n"
   ]
  },
  {
   "cell_type": "code",
   "execution_count": 36,
   "metadata": {
    "id": "t7nBgNGSqPTh"
   },
   "outputs": [],
   "source": [
    "def deep_autoencoder_model():\n",
    "\n",
    "  # This method defines a deep autoencoder model, with 4 layers in the sequence\n",
    "  \n",
    "  # Parameters: None\n",
    "\n",
    "  # Returns: a deep autoencoder model \n",
    "\n",
    "    input_shape=(784,)\n",
    "    model = Sequential()\n",
    "    model.add(Dense(256, activation='relu', input_shape=input_shape))\n",
    "    model.add(Dense(128, activation='relu'))\n",
    "    model.add(Dense(64, activation='relu'))\n",
    "    model.add(Dense(784, activation='sigmoid'))\n",
    "    return model"
   ]
  },
  {
   "cell_type": "markdown",
   "metadata": {
    "id": "thoJj-4y2VaY"
   },
   "source": [
    "# Defining method to compute loss by testing model on test set\n",
    "\n",
    "Testing the trained model against the test data. By computing the loss occurred during reconstruction of the images by the autoencoder model on an out-of-sample dataset, we can see how clear cut of a threshold exists between both the classes. Clearer the threshold, better the ROC score. (The losses can serve as probabilities too)"
   ]
  },
  {
   "cell_type": "code",
   "execution_count": 37,
   "metadata": {
    "id": "rM6DpOTC9PoN"
   },
   "outputs": [],
   "source": [
    "def compute_losses(model, data, name, show_plot = True):\n",
    "\n",
    "  # This method computes the reconstruction error, given a fitted model and the test set. It plots and stores the losses\n",
    "  \n",
    "  # Parameters: \n",
    "  #   model: any compatible autoencoder model\n",
    "  #   data: the test data set (in our case, the 500 rows of normal data and 500 rows of anomalous data)\n",
    "  #   name: name of the model (string value)\n",
    "  #   show_plot: Default is true -> Will display the plot with the sample index and corresponding losses. If False, plot will be hidden\n",
    "\n",
    "  # Returns: the array or losses/reconstruction error for the test and anomaly data\n",
    "\n",
    "    losses = []\n",
    "    for x in data:\n",
    "        # compule loss for each test sample\n",
    "        x = np.expand_dims(x, axis=0)\n",
    "        loss = model.test_on_batch(x, x)\n",
    "        losses.append(loss)\n",
    "\n",
    "    if (show_plot):\n",
    "        plt.plot(range(len(losses)), losses, linestyle='-', linewidth=1, label=name)\n",
    "        plt.legend(loc='best')\n",
    "        plt.grid()\n",
    "        plt.xlabel('sample index')\n",
    "        plt.ylabel('loss')\n",
    "        plt.show()\n",
    "\n",
    "    return losses"
   ]
  },
  {
   "cell_type": "markdown",
   "metadata": {
    "id": "VfBfXpPd6agd"
   },
   "source": [
    "Training the autoencoder model"
   ]
  },
  {
   "cell_type": "code",
   "execution_count": 38,
   "metadata": {
    "colab": {
     "base_uri": "https://localhost:8080/"
    },
    "id": "Tdshp7qXtXeV",
    "outputId": "5fbfddfd-4c57-491f-9aec-0b500e5cb40d"
   },
   "outputs": [
    {
     "name": "stdout",
     "output_type": "stream",
     "text": [
      "Epoch 1/10\n",
      "71/71 [==============================] - 0s 3ms/step - loss: 0.0853\n",
      "Epoch 2/10\n",
      "71/71 [==============================] - 0s 3ms/step - loss: 0.0402\n",
      "Epoch 3/10\n",
      "71/71 [==============================] - 0s 3ms/step - loss: 0.0321\n",
      "Epoch 4/10\n",
      "71/71 [==============================] - 0s 3ms/step - loss: 0.0271\n",
      "Epoch 5/10\n",
      "71/71 [==============================] - 0s 3ms/step - loss: 0.0237\n",
      "Epoch 6/10\n",
      "71/71 [==============================] - 0s 3ms/step - loss: 0.0208\n",
      "Epoch 7/10\n",
      "71/71 [==============================] - 0s 3ms/step - loss: 0.0184\n",
      "Epoch 8/10\n",
      "71/71 [==============================] - 0s 3ms/step - loss: 0.0166\n",
      "Epoch 9/10\n",
      "71/71 [==============================] - 0s 3ms/step - loss: 0.0152\n",
      "Epoch 10/10\n",
      "71/71 [==============================] - 0s 3ms/step - loss: 0.0141\n"
     ]
    },
    {
     "data": {
      "text/plain": [
       "<tensorflow.python.keras.callbacks.History at 0x7f34ca82c978>"
      ]
     },
     "execution_count": 38,
     "metadata": {
      "tags": []
     },
     "output_type": "execute_result"
    }
   ],
   "source": [
    "model_auto = autoencoder_model()\n",
    "model_auto.compile(optimizer='adam', loss='mean_squared_error')\n",
    "\n",
    "# train on only normal training data\n",
    "model_auto.fit(x_train, x_train, epochs=10,  batch_size=64)"
   ]
  },
  {
   "cell_type": "markdown",
   "metadata": {
    "id": "6vZ61aCDc3tD"
   },
   "source": [
    "Plotting the losses when the autoencoder model tries to reconstruct the test and anomaly images"
   ]
  },
  {
   "cell_type": "code",
   "execution_count": 39,
   "metadata": {
    "colab": {
     "base_uri": "https://localhost:8080/",
     "height": 279
    },
    "id": "BZerGTT1zkGX",
    "outputId": "4bce91a6-7d69-4ef8-ff32-05a583c95406"
   },
   "outputs": [
    {
     "data": {
      "image/png": "[encoded data removed]",
      "text/plain": [
       "<Figure size 432x288 with 1 Axes>"
      ]
     },
     "metadata": {
      "needs_background": "light",
      "tags": []
     },
     "output_type": "display_data"
    }
   ],
   "source": [
    "losses_autoencoder = compute_losses(model_auto, x_concat, 'Autoencoder Test')"
   ]
  },
  {
   "cell_type": "markdown",
   "metadata": {
    "id": "Qk8Kn8qB9CPR"
   },
   "source": [
    "Training the deep autoencoder model"
   ]
  },
  {
   "cell_type": "code",
   "execution_count": 40,
   "metadata": {
    "colab": {
     "base_uri": "https://localhost:8080/"
    },
    "id": "Gchw8RtX8_rQ",
    "outputId": "5f828af6-cf16-4487-b25a-5c3b38d7c171"
   },
   "outputs": [
    {
     "name": "stdout",
     "output_type": "stream",
     "text": [
      "Epoch 1/10\n",
      "71/71 [==============================] - 0s 5ms/step - loss: 0.0794\n",
      "Epoch 2/10\n",
      "71/71 [==============================] - 0s 5ms/step - loss: 0.0359\n",
      "Epoch 3/10\n",
      "71/71 [==============================] - 0s 5ms/step - loss: 0.0261\n",
      "Epoch 4/10\n",
      "71/71 [==============================] - 0s 6ms/step - loss: 0.0204\n",
      "Epoch 5/10\n",
      "71/71 [==============================] - 0s 6ms/step - loss: 0.0169\n",
      "Epoch 6/10\n",
      "71/71 [==============================] - 0s 5ms/step - loss: 0.0148\n",
      "Epoch 7/10\n",
      "71/71 [==============================] - 0s 6ms/step - loss: 0.0136\n",
      "Epoch 8/10\n",
      "71/71 [==============================] - 0s 5ms/step - loss: 0.0128\n",
      "Epoch 9/10\n",
      "71/71 [==============================] - 0s 5ms/step - loss: 0.0120\n",
      "Epoch 10/10\n",
      "71/71 [==============================] - 0s 5ms/step - loss: 0.0115\n"
     ]
    },
    {
     "data": {
      "text/plain": [
       "<tensorflow.python.keras.callbacks.History at 0x7f34caaf0ac8>"
      ]
     },
     "execution_count": 40,
     "metadata": {
      "tags": []
     },
     "output_type": "execute_result"
    }
   ],
   "source": [
    "model_deep = deep_autoencoder_model()\n",
    "model_deep.compile(optimizer='adam', loss='mean_squared_error')\n",
    "\n",
    "# train on only normal training data\n",
    "model_deep.fit(x_train, x_train, epochs=10,  batch_size=64)"
   ]
  },
  {
   "cell_type": "markdown",
   "metadata": {
    "id": "aIN8y5a6c_pZ"
   },
   "source": [
    "Plotting and storing the losses when the deep autoencoder model tries to reconstruct the test and anomaly images"
   ]
  },
  {
   "cell_type": "code",
   "execution_count": 41,
   "metadata": {
    "colab": {
     "base_uri": "https://localhost:8080/",
     "height": 279
    },
    "id": "Jq43ZeGv9Aku",
    "outputId": "4cdd559a-a25b-40ff-8673-d5661012443f"
   },
   "outputs": [
    {
     "data": {
      "image/png": "[encoded data removed]",
      "text/plain": [
       "<Figure size 432x288 with 1 Axes>"
      ]
     },
     "metadata": {
      "needs_background": "light",
      "tags": []
     },
     "output_type": "display_data"
    }
   ],
   "source": [
    "losses_deep = compute_losses(model_deep, x_concat, 'Deep Autoencoder Test')"
   ]
  },
  {
   "cell_type": "markdown",
   "metadata": {
    "id": "RZ7mp39P6hz_"
   },
   "source": [
    "# Running model on Kaggle Submission Data"
   ]
  },
  {
   "cell_type": "markdown",
   "metadata": {
    "id": "Y5I5IRDidIMz"
   },
   "source": [
    "Storing the losses when the autoencoder model tries to reconstruct the kaggle output images. Since it seems that the autoencoder model has a clear threshold between the reconstruction error of normal data and that of anomalous data, the losses itself can be submitted as the final proba for the Kaggle competition"
   ]
  },
  {
   "cell_type": "code",
   "execution_count": 42,
   "metadata": {
    "id": "zsCFVs7ZqFY6"
   },
   "outputs": [],
   "source": [
    "output_losses = compute_losses(model_auto, test_images_autoencoder, 'Kaggle Data', show_plot = False)"
   ]
  },
  {
   "cell_type": "markdown",
   "metadata": {
    "id": "P_vxXcie4gEe"
   },
   "source": [
    "# Saving as CSV File"
   ]
  },
  {
   "cell_type": "code",
   "execution_count": 43,
   "metadata": {
    "id": "lzROSZV0sG49"
   },
   "outputs": [],
   "source": [
    "output = pd.DataFrame(output_losses, columns=['target'])\n",
    "output.index.name = \"id\"\n",
    "output.to_csv(\"/content/drive/My Drive/submission.csv\") \n"
   ]
  }
 ],
 "metadata": {
  "colab": {
   "collapsed_sections": [],
   "name": "A0192263E BT4012 Assignment 2.ipynb",
   "provenance": []
  },
  "kernelspec": {
   "display_name": "Python 3",
   "language": "python",
   "name": "python3"
  },
  "language_info": {
   "codemirror_mode": {
    "name": "ipython",
    "version": 3
   },
   "file_extension": ".py",
   "mimetype": "text/x-python",
   "name": "python",
   "nbconvert_exporter": "python",
   "pygments_lexer": "ipython3",
   "version": "3.7.6"
  }
 },
 "nbformat": 4,
 "nbformat_minor": 1
}
